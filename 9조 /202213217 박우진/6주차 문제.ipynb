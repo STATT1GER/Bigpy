{
  "cells": [
    {
      "cell_type": "markdown",
      "id": "14127ce0",
      "metadata": {
        "id": "14127ce0"
      },
      "source": [
        "### 문제 1. sympy를 설치하는 코드와 불러오는 코드를 모두 아래 블록에 작성하시오."
      ]
    },
    {
      "cell_type": "code",
      "execution_count": 6,
      "id": "7951fc9c",
      "metadata": {
        "id": "7951fc9c",
        "outputId": "f9f9773b-45f3-4630-fd80-a856c9794ec2",
        "colab": {
          "base_uri": "https://localhost:8080/"
        }
      },
      "outputs": [
        {
          "output_type": "stream",
          "name": "stdout",
          "text": [
            "Requirement already satisfied: sympy in /usr/local/lib/python3.11/dist-packages (1.13.1)\n",
            "Requirement already satisfied: mpmath<1.4,>=1.1.0 in /usr/local/lib/python3.11/dist-packages (from sympy) (1.3.0)\n"
          ]
        }
      ],
      "source": [
        "!pip install sympy\n",
        "import sympy as sp\n",
        "from fractions import Fraction\n",
        "import sympy"
      ]
    },
    {
      "cell_type": "markdown",
      "id": "afd6135a",
      "metadata": {
        "id": "afd6135a"
      },
      "source": [
        "### 문제 2. sympy 라이브러리를 사용하여 다음 문제를 해결하시오.\n",
        "시윤이는 가진 돈의 5분의 2로 학용품을 샀다고 한다. 이때 학용품을 사는 데 쓴 돈이 1,760원일 때 남은 돈을 구하시오."
      ]
    },
    {
      "cell_type": "code",
      "execution_count": 17,
      "id": "001e6983",
      "metadata": {
        "id": "001e6983",
        "outputId": "b56617d6-b973-4c92-f314-f6f5379e74ac",
        "colab": {
          "base_uri": "https://localhost:8080/"
        }
      },
      "outputs": [
        {
          "output_type": "execute_result",
          "data": {
            "text/plain": [
              "[4400]"
            ]
          },
          "metadata": {},
          "execution_count": 17
        }
      ],
      "source": [
        "x = sympy.symbols(\"x\")\n",
        "x, y = sympy.symbols('x y')\n",
        "f = sympy.Eq(x*Fraction('2/5'), 1760)\n",
        "f\n",
        "x = sympy.solve(f, x)\n",
        "x"
      ]
    },
    {
      "cell_type": "markdown",
      "id": "d2091461",
      "metadata": {
        "id": "d2091461"
      },
      "source": [
        "### 문제 3. sympy 라이브러리를 사용하여 다음 문제를 해결하시오.\n",
        "x <sup>3</sup> = 6에서 x의 값을 구하시오."
      ]
    },
    {
      "cell_type": "code",
      "execution_count": 15,
      "id": "c7f8e862",
      "metadata": {
        "id": "c7f8e862",
        "outputId": "72fe6951-2bb0-49b7-ccf4-fe1a28dd7f59",
        "colab": {
          "base_uri": "https://localhost:8080/"
        }
      },
      "outputs": [
        {
          "output_type": "execute_result",
          "data": {
            "text/plain": [
              "[6**(1/3),\n",
              " -6**(1/3)/2 - 2**(1/3)*3**(5/6)*I/2,\n",
              " -6**(1/3)/2 + 2**(1/3)*3**(5/6)*I/2]"
            ]
          },
          "metadata": {},
          "execution_count": 15
        }
      ],
      "source": [
        "x=sympy.symbols('x')\n",
        "f=sympy.Eq(x**3,6)\n",
        "f\n",
        "x=sympy.solve(f,x)\n",
        "x"
      ]
    },
    {
      "cell_type": "markdown",
      "id": "ebc130a8",
      "metadata": {
        "id": "ebc130a8"
      },
      "source": [
        "### 문제 4. 다음 문제를 해결하시오.\n",
        "한 카페에서는 음료를 10잔 사면 1잔을 무료로 제공하는 적립 쿠폰 시스템을 운영 중이다. 총 음료 구매 개수가 주어졌을 때, 몇 잔의 무료 음료를 받을 수 있는지 계산하는 코드를 작성하시오.\n",
        "\n",
        "**예시 <Br>**\n",
        "총 음료 구매 개수: 3잔 ➡ 무료 음료 제공: 0잔 <br>\n",
        "총 음료 구매 개수: 11잔 ➡ 무료 음료 제공: 1잔<Br>\n",
        "총 음료 구매 개수: 43잔 ➡ 무료 음료 제공: 4잔"
      ]
    },
    {
      "cell_type": "code",
      "execution_count": null,
      "id": "12ee2b10",
      "metadata": {
        "id": "12ee2b10"
      },
      "outputs": [],
      "source": [
        "def 함수 이름(음료 구매 개수):"
      ]
    },
    {
      "cell_type": "markdown",
      "id": "a83d7605",
      "metadata": {
        "id": "a83d7605"
      },
      "source": [
        "### 문제 5. 다음 문제를 해결하시오.\n",
        "근무시간과 시급을 입력받아 시급을 계산하는 프로그램을 작성하시오.\n",
        "\n",
        "**조건 <Br>**\n",
        "1. 근무시간이 8시간을 초과한 시간부터는 시급의 1.5배를 적용한다.\n",
        "2. 근무시간과 시급을 입력받아 그에 맞는 1일치 일당을 출력하도록 한다."
      ]
    },
    {
      "cell_type": "code",
      "execution_count": null,
      "id": "f855087d",
      "metadata": {
        "id": "f855087d"
      },
      "outputs": [],
      "source": [
        "def 함수 이름 (근무시간, 시급):"
      ]
    },
    {
      "cell_type": "markdown",
      "id": "d4458873",
      "metadata": {
        "id": "d4458873"
      },
      "source": [
        "### 문제 6. 다음 문제를 해결하시오.\n",
        "1,000원 이상을 결제하면 소비 복권을 제공하는 이벤트를 운영하고 있다. 1천 원 미만 결제 시에는 사탕을 제공하며 소비 복권은 제공하지 않는다. 소비 복권을 긁으면 0원(꽝)~10만 원 사이의 금액이 무작위로 나온다.\n",
        "\n",
        "**조건 <Br>**\n",
        "1. random 라이브러리를 사용할 것\n",
        "2. 결제 금액을 입력받도록 한다.<br>\n",
        "2-1. 결제 금액이 1천 원 미만이면 \"사탕을 드립니다!\"라고 출력한다.<br>\n",
        "2-2. 결제 금액이 1천 원 이상이면 소비 복권을 한 장 지급하고 0원~10만원 사이의 무작위 금액을 출력하도록 한다."
      ]
    },
    {
      "cell_type": "code",
      "execution_count": null,
      "id": "e6e027b5",
      "metadata": {
        "id": "e6e027b5"
      },
      "outputs": [],
      "source": [
        "import random as rd\n",
        "\n",
        "def 함수 이름 (결제 금액):"
      ]
    },
    {
      "cell_type": "markdown",
      "id": "c60b12bc",
      "metadata": {
        "id": "c60b12bc"
      },
      "source": [
        "### 문제 7. 다음 문제를 해결하시오.\n",
        "오늘 날짜가 주말인지 평일인지 판별하시오. datetime 라이브러리를 이용할 것."
      ]
    },
    {
      "cell_type": "code",
      "execution_count": null,
      "id": "cd492e02",
      "metadata": {
        "id": "cd492e02"
      },
      "outputs": [],
      "source": []
    }
  ],
  "metadata": {
    "kernelspec": {
      "display_name": "Python 3",
      "language": "python",
      "name": "python3"
    },
    "language_info": {
      "codemirror_mode": {
        "name": "ipython",
        "version": 3
      },
      "file_extension": ".py",
      "mimetype": "text/x-python",
      "name": "python",
      "nbconvert_exporter": "python",
      "pygments_lexer": "ipython3",
      "version": "3.11.2"
    },
    "colab": {
      "provenance": []
    }
  },
  "nbformat": 4,
  "nbformat_minor": 5
}