{
  "cells": [
    {
      "cell_type": "markdown",
      "metadata": {
        "id": "HIwJVhAIahjb"
      },
      "source": [
        "사용자에게 이름을 입력받고, \"안녕하세요, OOO님!\" 형식으로 출력하는 프로그램을 작성하시오."
      ]
    },
    {
      "cell_type": "code",
      "execution_count": null,
      "metadata": {
        "id": "yTW1hncaahH_",
        "outputId": "8c2ef3ee-39f3-4a91-827d-cda2f65dbf09",
        "colab": {
          "base_uri": "https://localhost:8080/"
        }
      },
      "outputs": [
        {
          "output_type": "stream",
          "name": "stdout",
          "text": [
            "이름을 입력하세요twoo pac\n",
            "안녕하세요, twoo pac님!\n"
          ]
        }
      ],
      "source": [
        "a = str(input(\"이름을 입력하세요\"))\n",
        "print(f\"안녕하세요, {a}님!\")"
      ]
    },
    {
      "cell_type": "markdown",
      "metadata": {
        "id": "fHUlrcm1arDs"
      },
      "source": [
        "사용자로부터 3줄의 문장을 입력받아 note.txt에 저장하는 프로그램을 작성하시오.\n",
        "입력은 input()으로 받고, 입력이 끝나면 \"파일 저장 완료!\"를 출력하시오."
      ]
    },
    {
      "cell_type": "markdown",
      "metadata": {
        "id": "JQSg97M7armu"
      },
      "source": [
        "예시문장:\n",
        " ①빅파이 최고!\n",
        "  ②5월 13일은 정기모임의 날이다.\n",
        "   ③ 빅파이 부회장 멋있다."
      ]
    },
    {
      "cell_type": "code",
      "execution_count": 6,
      "metadata": {
        "id": "4n_OC8w5bq22",
        "outputId": "973eecd2-b0f9-455f-d1b8-eaa3f0d9d95d",
        "colab": {
          "base_uri": "https://localhost:8080/",
          "height": 124
        }
      },
      "outputs": [
        {
          "output_type": "error",
          "ename": "SyntaxError",
          "evalue": "(unicode error) 'unicodeescape' codec can't decode bytes in position 2-3: truncated \\UXXXXXXXX escape (<ipython-input-6-a03742a7330d>, line 5)",
          "traceback": [
            "\u001b[0;36m  File \u001b[0;32m\"<ipython-input-6-a03742a7330d>\"\u001b[0;36m, line \u001b[0;32m5\u001b[0m\n\u001b[0;31m    f = open(\"C:\\Users\\우진\\Documents\\note.txt\", 'w')\u001b[0m\n\u001b[0m                                             ^\u001b[0m\n\u001b[0;31mSyntaxError\u001b[0m\u001b[0;31m:\u001b[0m (unicode error) 'unicodeescape' codec can't decode bytes in position 2-3: truncated \\UXXXXXXXX escape\n"
          ]
        }
      ],
      "source": [
        "a=input(\"문장을 입력하세요\")\n",
        "b=input(\"문장을 입력하세요\")\n",
        "c=input(\"문장을 입력하세요\")\n",
        "print(\"파일 저장 완료!\")\n",
        "f = open(\"C:\\Users\\우진\\Documents\\note.txt\", 'w')\n",
        "    f.write(a)\n",
        "    f.write(b)\n",
        "    f.write(c)\n",
        "f.close()"
      ]
    },
    {
      "cell_type": "markdown",
      "metadata": {
        "id": "UEySpnAOau8e"
      },
      "source": [
        "note.txt 파일을 읽고, 각 줄 앞에 줄 번호를 붙여 출력하시오."
      ]
    },
    {
      "cell_type": "code",
      "execution_count": 2,
      "metadata": {
        "id": "Y8KU5GRqbrg-",
        "outputId": "78f424eb-6438-41d7-ef58-86b7e9fa9ccd",
        "colab": {
          "base_uri": "https://localhost:8080/",
          "height": 124
        }
      },
      "outputs": [
        {
          "output_type": "error",
          "ename": "SyntaxError",
          "evalue": "(unicode error) 'unicodeescape' codec can't decode bytes in position 2-3: truncated \\UXXXXXXXX escape (<ipython-input-2-73ee8ad41b2e>, line 2)",
          "traceback": [
            "\u001b[0;36m  File \u001b[0;32m\"<ipython-input-2-73ee8ad41b2e>\"\u001b[0;36m, line \u001b[0;32m2\u001b[0m\n\u001b[0;31m    f = open(\"C:\\Users\\우진\\Documents\\note.txt\", 'r')\u001b[0m\n\u001b[0m                                             ^\u001b[0m\n\u001b[0;31mSyntaxError\u001b[0m\u001b[0;31m:\u001b[0m (unicode error) 'unicodeescape' codec can't decode bytes in position 2-3: truncated \\UXXXXXXXX escape\n"
          ]
        }
      ],
      "source": [
        "\n",
        "f = open(\"C:\\Users\\우진\\Documents\\note.txt\", 'r')\n",
        "f.close()"
      ]
    },
    {
      "cell_type": "markdown",
      "metadata": {
        "id": "W9AcafI8au6i"
      },
      "source": [
        "명령행으로 입력한 인수를 한 줄씩 출력하시오."
      ]
    },
    {
      "cell_type": "markdown",
      "metadata": {
        "id": "tS5mCUWaau1r"
      },
      "source": [
        "인수: 2025, 05, 13"
      ]
    },
    {
      "cell_type": "code",
      "execution_count": 5,
      "metadata": {
        "id": "07pDcadKbtzq",
        "outputId": "8f6d48a0-aa75-4926-9aeb-da229d0d2066",
        "colab": {
          "base_uri": "https://localhost:8080/"
        }
      },
      "outputs": [
        {
          "output_type": "stream",
          "name": "stdout",
          "text": [
            "-f\n",
            "/root/.local/share/jupyter/runtime/kernel-22e95b77-03b8-4f44-b6bc-ee3960b85507.json\n"
          ]
        }
      ],
      "source": [
        "import sys\n",
        "\n",
        "args = sys.argv[1:]\n",
        "for i in args:\n",
        "    print(i)"
      ]
    },
    {
      "cell_type": "markdown",
      "metadata": {
        "id": "Ks-1NM6eauwC"
      },
      "source": [
        "명령행 인수로 전달된 정수들을 더해 합계를 출력하시오\n"
      ]
    },
    {
      "cell_type": "code",
      "execution_count": null,
      "metadata": {
        "id": "wsvQ-EDbbuWK"
      },
      "outputs": [],
      "source": []
    },
    {
      "cell_type": "markdown",
      "metadata": {
        "id": "yU8YfCHwaun0"
      },
      "source": [
        "Student 클래스를 정의하고 이름, 학번을 속성으로 저장하며 show_info() 메서드로 출력하시오. (본인이름 과 학번)"
      ]
    },
    {
      "cell_type": "code",
      "execution_count": null,
      "metadata": {
        "id": "NgMsmjeNbuz6"
      },
      "outputs": [],
      "source": [
        "class student:"
      ]
    },
    {
      "cell_type": "markdown",
      "metadata": {
        "id": "mVsVTyZLaujA"
      },
      "source": [
        "Student 클래스를 상속하는 StudentScore 클래스를 정의하고, 점수에 따라 학점을 계산하시오. (90점 이상 A, 80 ~ 89점 B, 70 ~ 79점\n",
        "  C, 그 외 F)"
      ]
    },
    {
      "cell_type": "code",
      "execution_count": null,
      "metadata": {
        "id": "jyiG6JzXbves"
      },
      "outputs": [],
      "source": []
    }
  ],
  "metadata": {
    "colab": {
      "provenance": []
    },
    "kernelspec": {
      "display_name": "Python 3",
      "name": "python3"
    },
    "language_info": {
      "name": "python"
    }
  },
  "nbformat": 4,
  "nbformat_minor": 0
}