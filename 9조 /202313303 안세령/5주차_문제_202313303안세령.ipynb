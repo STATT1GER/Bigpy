{
 "cells": [
  {
   "cell_type": "markdown",
   "metadata": {
    "id": "HIwJVhAIahjb"
   },
   "source": [
    "사용자에게 이름을 입력받고, \"안녕하세요, OOO님!\" 형식으로 출력하는 프로그램을 작성하시오."
   ]
  },
  {
   "cell_type": "code",
   "execution_count": 6,
   "metadata": {
    "id": "yTW1hncaahH_"
   },
   "outputs": [
    {
     "name": "stdin",
     "output_type": "stream",
     "text": [
      "이름을 입력하시오:  안세령\n"
     ]
    },
    {
     "name": "stdout",
     "output_type": "stream",
     "text": [
      "안녕하세요, 안세령님!\n"
     ]
    }
   ],
   "source": [
    "name = input('이름을 입력하시오: ')\n",
    "print(f'안녕하세요, {name}님!')"
   ]
  },
  {
   "cell_type": "markdown",
   "metadata": {
    "id": "fHUlrcm1arDs"
   },
   "source": [
    "사용자로부터 3줄의 문장을 입력받아 note.txt에 저장하는 프로그램을 작성하시오.\n",
    "입력은 input()으로 받고, 입력이 끝나면 \"파일 저장 완료!\"를 출력하시오."
   ]
  },
  {
   "cell_type": "markdown",
   "metadata": {
    "id": "JQSg97M7armu"
   },
   "source": [
    "예시문장:\n",
    " ①빅파이 최고!\n",
    "  ②5월 13일은 정기모임의 날이다.\n",
    "   ③ 빅파이 부회장 멋있다."
   ]
  },
  {
   "cell_type": "code",
   "execution_count": 24,
   "metadata": {
    "id": "4n_OC8w5bq22"
   },
   "outputs": [
    {
     "name": "stdin",
     "output_type": "stream",
     "text": [
      "문장을 입력하시오:  첫번째문장\n",
      "문장을 입력하시오:  두번째문장\n",
      "문장을 입력하시오:  세번째문장\n"
     ]
    }
   ],
   "source": [
    "f = open('C:/Users/anseryeong/Desktop/대학교/3학년 1학기/빅파이/note.txt','w')\n",
    "for i in range(3):\n",
    "    text = input('문장을 입력하시오: ') + '\\n'\n",
    "    f.write(text)\n",
    "f.close()\n"
   ]
  },
  {
   "cell_type": "markdown",
   "metadata": {
    "id": "UEySpnAOau8e"
   },
   "source": [
    "note.txt 파일을 읽고, 각 줄 앞에 줄 번호를 붙여 출력하시오."
   ]
  },
  {
   "cell_type": "code",
   "execution_count": 25,
   "metadata": {
    "id": "Y8KU5GRqbrg-"
   },
   "outputs": [
    {
     "name": "stdout",
     "output_type": "stream",
     "text": [
      "1    첫번째문장\n",
      "2    두번째문장\n",
      "3    세번째문장\n"
     ]
    }
   ],
   "source": [
    "f = open('C:/Users/anseryeong/Desktop/대학교/3학년 1학기/빅파이/note.txt', 'r')\n",
    "lines = f.readlines()\n",
    "i=1 \n",
    "for line in lines:\n",
    "    line = line.strip()\n",
    "    print(i,'  ', line)\n",
    "    i += 1\n",
    "f.close()"
   ]
  },
  {
   "cell_type": "markdown",
   "metadata": {
    "id": "W9AcafI8au6i"
   },
   "source": [
    "명령행으로 입력한 인수를 한 줄씩 출력하시오."
   ]
  },
  {
   "cell_type": "markdown",
   "metadata": {
    "id": "tS5mCUWaau1r"
   },
   "source": [
    "인수: 2025, 05, 13"
   ]
  },
  {
   "cell_type": "code",
   "execution_count": 27,
   "metadata": {
    "id": "07pDcadKbtzq"
   },
   "outputs": [
    {
     "name": "stdout",
     "output_type": "stream",
     "text": [
      "-f\n",
      "C:\\Users\\anseryeong\\AppData\\Roaming\\jupyter\\runtime\\kernel-16ccf05e-b465-4eca-8e49-891b1f8c60a4.json\n"
     ]
    }
   ],
   "source": [
    "# 모르겠음...\n",
    "\n",
    "import sys\n",
    "\n",
    "args = sys.argv[1:]\n",
    "for i in args:\n",
    "    print(i)"
   ]
  },
  {
   "cell_type": "markdown",
   "metadata": {
    "id": "Ks-1NM6eauwC"
   },
   "source": [
    "명령행 인수로 전달된 정수들을 더해 합계를 출력하시오\n"
   ]
  },
  {
   "cell_type": "code",
   "execution_count": null,
   "metadata": {
    "id": "wsvQ-EDbbuWK"
   },
   "outputs": [],
   "source": []
  },
  {
   "cell_type": "markdown",
   "metadata": {
    "id": "yU8YfCHwaun0"
   },
   "source": [
    "Student 클래스를 정의하고 이름, 학번을 속성으로 저장하며 show_info() 메서드로 출력하시오. (본인이름 과 학번)"
   ]
  },
  {
   "cell_type": "code",
   "execution_count": 31,
   "metadata": {
    "id": "NgMsmjeNbuz6"
   },
   "outputs": [
    {
     "name": "stdout",
     "output_type": "stream",
     "text": [
      "이름은 안세령 학번은 202313303\n"
     ]
    }
   ],
   "source": [
    "class Student:\n",
    "    def show_info(self,name,num):\n",
    "        self.name = name\n",
    "        self.num = num\n",
    "        print('이름은',self.name, '학번은', self.num)\n",
    "\n",
    "a = Student()\n",
    "a.show_info('안세령',202313303)"
   ]
  },
  {
   "cell_type": "markdown",
   "metadata": {
    "id": "mVsVTyZLaujA"
   },
   "source": [
    "Student 클래스를 상속하는 StudentScore 클래스를 정의하고, 점수에 따라 학점을 계산하시오. (90점 이상 A, 80 ~ 89점 B, 70 ~ 79점\n",
    "  C, 그 외 F)"
   ]
  },
  {
   "cell_type": "code",
   "execution_count": 34,
   "metadata": {
    "id": "jyiG6JzXbves"
   },
   "outputs": [
    {
     "name": "stdout",
     "output_type": "stream",
     "text": [
      "A\n"
     ]
    }
   ],
   "source": [
    "class StudentScore(Student):\n",
    "    def what_score(self,score):\n",
    "        self.score = score\n",
    "        if self.score >=90:\n",
    "            grade = 'A'\n",
    "        elif 80<=self.score<90:\n",
    "            grade = 'B'\n",
    "        elif 70<= self.score<80:\n",
    "            grade = 'C'\n",
    "        else:\n",
    "            grade = 'F'\n",
    "        print(grade)\n",
    "            \n",
    "a = StudentScore()\n",
    "a.what_score(90)"
   ]
  },
  {
   "cell_type": "code",
   "execution_count": null,
   "metadata": {},
   "outputs": [],
   "source": []
  }
 ],
 "metadata": {
  "colab": {
   "provenance": []
  },
  "kernelspec": {
   "display_name": "Python 3 (ipykernel)",
   "language": "python",
   "name": "python3"
  },
  "language_info": {
   "codemirror_mode": {
    "name": "ipython",
    "version": 3
   },
   "file_extension": ".py",
   "mimetype": "text/x-python",
   "name": "python",
   "nbconvert_exporter": "python",
   "pygments_lexer": "ipython3",
   "version": "3.11.7"
  }
 },
 "nbformat": 4,
 "nbformat_minor": 4
}
